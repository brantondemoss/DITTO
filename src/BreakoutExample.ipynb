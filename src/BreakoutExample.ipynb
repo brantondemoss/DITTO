{
 "cells": [
  {
   "cell_type": "code",
   "execution_count": 1,
   "id": "32f25220",
   "metadata": {},
   "outputs": [],
   "source": [
    "%load_ext autoreload\n",
    "%autoreload 2"
   ]
  },
  {
   "cell_type": "code",
   "execution_count": 2,
   "id": "9c346e02",
   "metadata": {
    "scrolled": true
   },
   "outputs": [
    {
     "name": "stderr",
     "output_type": "stream",
     "text": [
      "A.L.E: Arcade Learning Environment (version 0.7.4+069f8bd)\n",
      "[Powered by Stella]\n"
     ]
    }
   ],
   "source": [
    "from stable_baselines3.common.atari_wrappers import AtariWrapper\n",
    "from stable_baselines3.common.monitor import Monitor\n",
    "import gym\n",
    "env_id = \"BreakoutNoFrameskip-v4\"\n",
    "env = gym.make(env_id)\n",
    "env = AtariWrapper(Monitor(env), clip_reward= False,screen_size=64)"
   ]
  },
  {
   "cell_type": "code",
   "execution_count": 3,
   "id": "b30a3bf8",
   "metadata": {},
   "outputs": [
    {
     "name": "stdout",
     "output_type": "stream",
     "text": [
      "(3, 84, 84, 4)\n",
      "Wrapping the env in a VecTransposeImage.\n",
      "(3, 84, 84, 4)\n",
      "(3, 84, 84, 4)\n"
     ]
    },
    {
     "name": "stderr",
     "output_type": "stream",
     "text": [
      "/home/bdemoss/.local/lib/python3.10/site-packages/stable_baselines3/common/base_class.py:724: UserWarning: You are probably loading a model saved with SB3 < 1.7.0, we deactivated exact_match so you can save the model again to avoid issues in the future (see https://github.com/DLR-RM/stable-baselines3/issues/1233 for more info). Original error: Error(s) in loading state_dict for ActorCriticCnnPolicy:\n",
      "\tMissing key(s) in state_dict: \"pi_features_extractor.cnn.0.weight\", \"pi_features_extractor.cnn.0.bias\", \"pi_features_extractor.cnn.2.weight\", \"pi_features_extractor.cnn.2.bias\", \"pi_features_extractor.cnn.4.weight\", \"pi_features_extractor.cnn.4.bias\", \"pi_features_extractor.linear.0.weight\", \"pi_features_extractor.linear.0.bias\", \"vf_features_extractor.cnn.0.weight\", \"vf_features_extractor.cnn.0.bias\", \"vf_features_extractor.cnn.2.weight\", \"vf_features_extractor.cnn.2.bias\", \"vf_features_extractor.cnn.4.weight\", \"vf_features_extractor.cnn.4.bias\", \"vf_features_extractor.linear.0.weight\", \"vf_features_extractor.linear.0.bias\".  \n",
      "Note: the model should still work fine, this only a warning.\n",
      "  warnings.warn(\n"
     ]
    }
   ],
   "source": [
    "from agent import Agent\n",
    "from collect_data import build_env\n",
    "\n",
    "# Put path to pre-trained SB3 expert here:\n",
    "expert_path = \"../../rl-baselines3-zoo/rl-trained-agents/ppo/BreakoutNoFrameskip-v4_1/BreakoutNoFrameskip-v4.zip\"\n",
    "env_id = \"BreakoutNoFrameskip-v4\"\n",
    "\n",
    "# n_envs to run in parallel\n",
    "env = build_env(env_id=env_id, n_envs=3)\n",
    "agent = Agent.from_sb3_file(expert_path, \"ppo\", env)"
   ]
  },
  {
   "cell_type": "code",
   "execution_count": 4,
   "id": "1a41944f",
   "metadata": {
    "scrolled": true
   },
   "outputs": [
    {
     "data": {
      "application/vnd.jupyter.widget-view+json": {
       "model_id": "d459fc01d4e143ccb5ad3c680951592a",
       "version_major": 2,
       "version_minor": 0
      },
      "text/plain": [
       "  0%|          | 0/6 [00:00<?, ?it/s]"
      ]
     },
     "metadata": {},
     "output_type": "display_data"
    },
    {
     "name": "stdout",
     "output_type": "stream",
     "text": [
      "Saving..\n",
      "../data/test/episodes//episode-0\n",
      "\n",
      "Saving..\n",
      "../data/test/episodes//episode-1\n",
      "\n",
      "Saving..\n",
      "../data/test/episodes//episode-2\n",
      "\n",
      "Saving..\n",
      "../data/test/episodes//episode-3\n",
      "\n",
      "Saving..\n",
      "../data/test/episodes//episode-4\n",
      "\n",
      "Saving..\n",
      "../data/test/episodes//episode-5\n",
      "\n"
     ]
    }
   ],
   "source": [
    "num_episodes = 6\n",
    "out_path = \"../data/test/episodes/\" # whatever path you want here\n",
    "max_steps = None # set some max steps per episode if you're worried about infinite episodes\n",
    "agent.run_n_episodes(num_episodes, out_path, max_steps)"
   ]
  },
  {
   "cell_type": "code",
   "execution_count": 1,
   "id": "0adb9bc5",
   "metadata": {},
   "outputs": [
    {
     "name": "stdout",
     "output_type": "stream",
     "text": [
      "got env name breakout\n"
     ]
    }
   ],
   "source": [
    "from main import build_config, wm_train\n",
    "conf = build_config(\"config/test_config.yaml\")\n"
   ]
  },
  {
   "cell_type": "code",
   "execution_count": 2,
   "id": "a2c53c4e",
   "metadata": {},
   "outputs": [
    {
     "name": "stderr",
     "output_type": "stream",
     "text": [
      "\u001b[34m\u001b[1mwandb\u001b[0m: Currently logged in as: \u001b[33mbrantondemoss\u001b[0m. Use \u001b[1m`wandb login --relogin`\u001b[0m to force relogin\n"
     ]
    },
    {
     "data": {
      "text/html": [
       "wandb version 0.13.10 is available!  To upgrade, please run:\n",
       " $ pip install wandb --upgrade"
      ],
      "text/plain": [
       "<IPython.core.display.HTML object>"
      ]
     },
     "metadata": {},
     "output_type": "display_data"
    },
    {
     "data": {
      "text/html": [
       "Tracking run with wandb version 0.13.3"
      ],
      "text/plain": [
       "<IPython.core.display.HTML object>"
      ]
     },
     "metadata": {},
     "output_type": "display_data"
    },
    {
     "data": {
      "text/html": [
       "Run data is saved locally in <code>/home/bdemoss/research/div-rl/src/wandb/run-20230227_023431-2osjzdui</code>"
      ],
      "text/plain": [
       "<IPython.core.display.HTML object>"
      ]
     },
     "metadata": {},
     "output_type": "display_data"
    },
    {
     "data": {
      "text/html": [
       "Syncing run <strong><a href=\"https://wandb.ai/brantondemoss/world-model/runs/2osjzdui\" target=\"_blank\">cool-planet-133</a></strong> to <a href=\"https://wandb.ai/brantondemoss/world-model\" target=\"_blank\">Weights & Biases</a> (<a href=\"https://wandb.me/run\" target=\"_blank\">docs</a>)<br/>"
      ],
      "text/plain": [
       "<IPython.core.display.HTML object>"
      ]
     },
     "metadata": {},
     "output_type": "display_data"
    },
    {
     "name": "stdout",
     "output_type": "stream",
     "text": [
      "Building dataset..\n",
      "loading dataset from ../data/test/episodes\n",
      "got 6 files...\n"
     ]
    },
    {
     "data": {
      "application/vnd.jupyter.widget-view+json": {
       "model_id": "dd4d3e1fd0d6482db40d3d7fd8f197c7",
       "version_major": 2,
       "version_minor": 0
      },
      "text/plain": [
       "loading files..:   0%|          | 0/6 [00:00<?, ?it/s]"
      ]
     },
     "metadata": {},
     "output_type": "display_data"
    },
    {
     "name": "stdout",
     "output_type": "stream",
     "text": [
      "finished loading\n",
      "Reward min, max, mean, std 368.0 418.0 392.8333333333333 15.889374506953454\n",
      "torch.Size([12321, 18]) here\n",
      "total transitions: 12321\n",
      "num batch elements: 246\n",
      "Splitting data..\n",
      "set lens: 11088 1233\n",
      "Building dataloaders..\n",
      "Chunk size: 5544\n",
      "n steps: 111\n",
      "Chunk size: 10\n",
      "n steps: 1\n"
     ]
    },
    {
     "data": {
      "application/vnd.jupyter.widget-view+json": {
       "model_id": "aa7dffd8060049b2873b030b38b0a43c",
       "version_major": 2,
       "version_minor": 0
      },
      "text/plain": [
       "0it [00:00, ?it/s]"
      ]
     },
     "metadata": {},
     "output_type": "display_data"
    },
    {
     "name": "stdout",
     "output_type": "stream",
     "text": [
      "Got checkpoint path ../checkpoints/breakout/sb3/\n",
      "wrote ../checkpoints/breakout/sb3/model-10_steps.pth\n"
     ]
    },
    {
     "ename": "KeyboardInterrupt",
     "evalue": "",
     "output_type": "error",
     "traceback": [
      "\u001b[0;31m---------------------------------------------------------------------------\u001b[0m",
      "\u001b[0;31mKeyboardInterrupt\u001b[0m                         Traceback (most recent call last)",
      "Input \u001b[0;32mIn [2]\u001b[0m, in \u001b[0;36m<cell line: 1>\u001b[0;34m()\u001b[0m\n\u001b[0;32m----> 1\u001b[0m \u001b[43mwm_train\u001b[49m\u001b[43m(\u001b[49m\u001b[43mconf\u001b[49m\u001b[43m)\u001b[49m\n",
      "File \u001b[0;32m~/research/div-rl/src/main.py:33\u001b[0m, in \u001b[0;36mwm_train\u001b[0;34m(conf)\u001b[0m\n\u001b[1;32m     31\u001b[0m trainer \u001b[38;5;241m=\u001b[39m RSSMTrainer(conf)\n\u001b[1;32m     32\u001b[0m wandb\u001b[38;5;241m.\u001b[39mwatch(trainer\u001b[38;5;241m.\u001b[39mmodel)\n\u001b[0;32m---> 33\u001b[0m \u001b[43mtrainer\u001b[49m\u001b[38;5;241;43m.\u001b[39;49m\u001b[43mtrain\u001b[49m\u001b[43m(\u001b[49m\u001b[43m)\u001b[49m\n",
      "File \u001b[0;32m~/research/div-rl/src/trainers/rssm_trainer.py:100\u001b[0m, in \u001b[0;36mRSSMTrainer.train\u001b[0;34m(self)\u001b[0m\n\u001b[1;32m     97\u001b[0m \u001b[38;5;28mself\u001b[39m\u001b[38;5;241m.\u001b[39moptimizer\u001b[38;5;241m.\u001b[39mzero_grad()\n\u001b[1;32m     99\u001b[0m \u001b[38;5;28;01mwith\u001b[39;00m autocast(enabled\u001b[38;5;241m=\u001b[39m\u001b[38;5;28;01mTrue\u001b[39;00m):\n\u001b[0;32m--> 100\u001b[0m     batch_metrics, decoded_img, out_states, samples \u001b[38;5;241m=\u001b[39m \u001b[38;5;28;43mself\u001b[39;49m\u001b[38;5;241;43m.\u001b[39;49m\u001b[43mmodel\u001b[49m\u001b[38;5;241;43m.\u001b[39;49m\u001b[43mtraining_step\u001b[49m\u001b[43m(\u001b[49m\n\u001b[1;32m    101\u001b[0m \u001b[43m        \u001b[49m\u001b[43mobs\u001b[49m\u001b[43m,\u001b[49m\u001b[43m \u001b[49m\u001b[43min_states\u001b[49m\u001b[43m)\u001b[49m\n\u001b[1;32m    102\u001b[0m in_states \u001b[38;5;241m=\u001b[39m out_states\n\u001b[1;32m    104\u001b[0m \u001b[38;5;66;03m# put before param updates\u001b[39;00m\n",
      "File \u001b[0;32m~/research/div-rl/src/models/world_model.py:76\u001b[0m, in \u001b[0;36mWorldModelRSSM.training_step\u001b[0;34m(self, obs, in_state)\u001b[0m\n\u001b[1;32m     69\u001b[0m \u001b[38;5;28;01mdef\u001b[39;00m \u001b[38;5;21mtraining_step\u001b[39m(\u001b[38;5;28mself\u001b[39m,\n\u001b[1;32m     70\u001b[0m                   obs,\n\u001b[1;32m     71\u001b[0m                   in_state,\n\u001b[1;32m     72\u001b[0m                   ):\n\u001b[1;32m     73\u001b[0m     embed \u001b[38;5;241m=\u001b[39m \u001b[38;5;28mself\u001b[39m\u001b[38;5;241m.\u001b[39mencoder(obs[\u001b[38;5;124m\"\u001b[39m\u001b[38;5;124mobs\u001b[39m\u001b[38;5;124m\"\u001b[39m])\n\u001b[1;32m     75\u001b[0m     prior, post, post_samples, features, hidden_states, out_states \u001b[38;5;241m=\u001b[39m \\\n\u001b[0;32m---> 76\u001b[0m         \u001b[38;5;28;43mself\u001b[39;49m\u001b[38;5;241;43m.\u001b[39;49m\u001b[43mrssm_core\u001b[49m\u001b[38;5;241;43m.\u001b[39;49m\u001b[43mforward\u001b[49m\u001b[43m(\u001b[49m\u001b[43membed\u001b[49m\u001b[43m,\u001b[49m\n\u001b[1;32m     77\u001b[0m \u001b[43m                               \u001b[49m\u001b[43mobs\u001b[49m\u001b[43m[\u001b[49m\u001b[38;5;124;43m'\u001b[39;49m\u001b[38;5;124;43maction\u001b[39;49m\u001b[38;5;124;43m'\u001b[39;49m\u001b[43m]\u001b[49m\u001b[43m,\u001b[49m\n\u001b[1;32m     78\u001b[0m \u001b[43m                               \u001b[49m\u001b[43mobs\u001b[49m\u001b[43m[\u001b[49m\u001b[38;5;124;43m'\u001b[39;49m\u001b[38;5;124;43mreset\u001b[39;49m\u001b[38;5;124;43m'\u001b[39;49m\u001b[43m]\u001b[49m\u001b[43m,\u001b[49m\n\u001b[1;32m     79\u001b[0m \u001b[43m                               \u001b[49m\u001b[43min_state\u001b[49m\u001b[43m)\u001b[49m\n\u001b[1;32m     80\u001b[0m     loss_reconstr, loss_image, decoded_img \u001b[38;5;241m=\u001b[39m \u001b[38;5;28mself\u001b[39m\u001b[38;5;241m.\u001b[39mdecoder(\n\u001b[1;32m     81\u001b[0m         features, obs[\u001b[38;5;124m\"\u001b[39m\u001b[38;5;124mobs\u001b[39m\u001b[38;5;124m\"\u001b[39m])\n\u001b[1;32m     83\u001b[0m     d \u001b[38;5;241m=\u001b[39m \u001b[38;5;28mself\u001b[39m\u001b[38;5;241m.\u001b[39mrssm_core\u001b[38;5;241m.\u001b[39mzdistr\n",
      "File \u001b[0;32m~/research/div-rl/src/models/rssm.py:33\u001b[0m, in \u001b[0;36mRSSMCore.forward\u001b[0;34m(self, embeds, actions, resets, in_state)\u001b[0m\n\u001b[1;32m     31\u001b[0m posts, states_h, samples \u001b[38;5;241m=\u001b[39m [], [], []\n\u001b[1;32m     32\u001b[0m \u001b[38;5;28;01mfor\u001b[39;00m i \u001b[38;5;129;01min\u001b[39;00m \u001b[38;5;28mrange\u001b[39m(T):\n\u001b[0;32m---> 33\u001b[0m     post, (h, z) \u001b[38;5;241m=\u001b[39m \u001b[38;5;28;43mself\u001b[39;49m\u001b[38;5;241;43m.\u001b[39;49m\u001b[43mcell\u001b[49m\u001b[38;5;241;43m.\u001b[39;49m\u001b[43mforward\u001b[49m\u001b[43m(\u001b[49m\u001b[43mactions\u001b[49m\u001b[43m[\u001b[49m\u001b[43mi\u001b[49m\u001b[43m]\u001b[49m\u001b[43m,\u001b[49m\u001b[43m \u001b[49m\u001b[43m(\u001b[49m\u001b[43mh\u001b[49m\u001b[43m,\u001b[49m\u001b[43m \u001b[49m\u001b[43mz\u001b[49m\u001b[43m)\u001b[49m\u001b[43m,\u001b[49m\n\u001b[1;32m     34\u001b[0m \u001b[43m                                     \u001b[49m\u001b[43mreset_masks\u001b[49m\u001b[43m[\u001b[49m\u001b[43mi\u001b[49m\u001b[43m]\u001b[49m\u001b[43m,\u001b[49m\u001b[43m \u001b[49m\u001b[43membeds\u001b[49m\u001b[43m[\u001b[49m\u001b[43mi\u001b[49m\u001b[43m]\u001b[49m\u001b[43m)\u001b[49m\n\u001b[1;32m     35\u001b[0m     posts\u001b[38;5;241m.\u001b[39mappend(post)\n\u001b[1;32m     36\u001b[0m     states_h\u001b[38;5;241m.\u001b[39mappend(h)\n",
      "File \u001b[0;32m~/research/div-rl/src/models/rssm.py:141\u001b[0m, in \u001b[0;36mRSSMCell.forward\u001b[0;34m(self, action, in_state, reset_mask, embed)\u001b[0m\n\u001b[1;32m    139\u001b[0m x \u001b[38;5;241m=\u001b[39m F\u001b[38;5;241m.\u001b[39melu(x)\n\u001b[1;32m    140\u001b[0m pp \u001b[38;5;241m=\u001b[39m mlp(x)  \u001b[38;5;66;03m# posterior or prior\u001b[39;00m\n\u001b[0;32m--> 141\u001b[0m distr \u001b[38;5;241m=\u001b[39m \u001b[38;5;28;43mself\u001b[39;49m\u001b[38;5;241;43m.\u001b[39;49m\u001b[43mzdistr\u001b[49m\u001b[43m(\u001b[49m\u001b[43mpp\u001b[49m\u001b[43m)\u001b[49m\n\u001b[1;32m    142\u001b[0m sample \u001b[38;5;241m=\u001b[39m distr\u001b[38;5;241m.\u001b[39mrsample()\u001b[38;5;241m.\u001b[39mreshape(B, \u001b[38;5;241m-\u001b[39m\u001b[38;5;241m1\u001b[39m)\n\u001b[1;32m    144\u001b[0m \u001b[38;5;28;01mreturn\u001b[39;00m pp, (h, sample)\n",
      "File \u001b[0;32m~/research/div-rl/src/models/rssm.py:159\u001b[0m, in \u001b[0;36mRSSMCell.zdistr\u001b[0;34m(self, pp)\u001b[0m\n\u001b[1;32m    155\u001b[0m \u001b[38;5;28;01mdef\u001b[39;00m \u001b[38;5;21mzdistr\u001b[39m(\u001b[38;5;28mself\u001b[39m, pp: Tensor) \u001b[38;5;241m-\u001b[39m\u001b[38;5;241m>\u001b[39m D\u001b[38;5;241m.\u001b[39mDistribution:\n\u001b[1;32m    156\u001b[0m     \u001b[38;5;66;03m# pp = posterior or prior\u001b[39;00m\n\u001b[1;32m    157\u001b[0m     logits \u001b[38;5;241m=\u001b[39m pp\u001b[38;5;241m.\u001b[39mreshape(\n\u001b[1;32m    158\u001b[0m         pp\u001b[38;5;241m.\u001b[39mshape[:\u001b[38;5;241m-\u001b[39m\u001b[38;5;241m1\u001b[39m] \u001b[38;5;241m+\u001b[39m (\u001b[38;5;28mself\u001b[39m\u001b[38;5;241m.\u001b[39mstoch_dim, \u001b[38;5;28mself\u001b[39m\u001b[38;5;241m.\u001b[39mstoch_rank))\n\u001b[0;32m--> 159\u001b[0m     distr \u001b[38;5;241m=\u001b[39m \u001b[43mD\u001b[49m\u001b[38;5;241;43m.\u001b[39;49m\u001b[43mOneHotCategoricalStraightThrough\u001b[49m\u001b[43m(\u001b[49m\u001b[43mlogits\u001b[49m\u001b[38;5;241;43m=\u001b[39;49m\u001b[43mlogits\u001b[49m\u001b[38;5;241;43m.\u001b[39;49m\u001b[43mfloat\u001b[49m\u001b[43m(\u001b[49m\u001b[43m)\u001b[49m\u001b[43m)\u001b[49m\n\u001b[1;32m    160\u001b[0m     distr \u001b[38;5;241m=\u001b[39m D\u001b[38;5;241m.\u001b[39mindependent\u001b[38;5;241m.\u001b[39mIndependent(distr, \u001b[38;5;241m1\u001b[39m)\n\u001b[1;32m    161\u001b[0m     \u001b[38;5;28;01mreturn\u001b[39;00m distr\n",
      "File \u001b[0;32m~/.local/lib/python3.10/site-packages/torch/distributions/one_hot_categorical.py:44\u001b[0m, in \u001b[0;36mOneHotCategorical.__init__\u001b[0;34m(self, probs, logits, validate_args)\u001b[0m\n\u001b[1;32m     42\u001b[0m batch_shape \u001b[38;5;241m=\u001b[39m \u001b[38;5;28mself\u001b[39m\u001b[38;5;241m.\u001b[39m_categorical\u001b[38;5;241m.\u001b[39mbatch_shape\n\u001b[1;32m     43\u001b[0m event_shape \u001b[38;5;241m=\u001b[39m \u001b[38;5;28mself\u001b[39m\u001b[38;5;241m.\u001b[39m_categorical\u001b[38;5;241m.\u001b[39mparam_shape[\u001b[38;5;241m-\u001b[39m\u001b[38;5;241m1\u001b[39m:]\n\u001b[0;32m---> 44\u001b[0m \u001b[38;5;28;43msuper\u001b[39;49m\u001b[43m(\u001b[49m\u001b[43mOneHotCategorical\u001b[49m\u001b[43m,\u001b[49m\u001b[43m \u001b[49m\u001b[38;5;28;43mself\u001b[39;49m\u001b[43m)\u001b[49m\u001b[38;5;241;43m.\u001b[39;49m\u001b[38;5;21;43m__init__\u001b[39;49m\u001b[43m(\u001b[49m\u001b[43mbatch_shape\u001b[49m\u001b[43m,\u001b[49m\u001b[43m \u001b[49m\u001b[43mevent_shape\u001b[49m\u001b[43m,\u001b[49m\u001b[43m \u001b[49m\u001b[43mvalidate_args\u001b[49m\u001b[38;5;241;43m=\u001b[39;49m\u001b[43mvalidate_args\u001b[49m\u001b[43m)\u001b[49m\n",
      "File \u001b[0;32m~/.local/lib/python3.10/site-packages/torch/distributions/distribution.py:54\u001b[0m, in \u001b[0;36mDistribution.__init__\u001b[0;34m(self, batch_shape, event_shape, validate_args)\u001b[0m\n\u001b[1;32m     52\u001b[0m         value \u001b[38;5;241m=\u001b[39m \u001b[38;5;28mgetattr\u001b[39m(\u001b[38;5;28mself\u001b[39m, param)\n\u001b[1;32m     53\u001b[0m         valid \u001b[38;5;241m=\u001b[39m constraint\u001b[38;5;241m.\u001b[39mcheck(value)\n\u001b[0;32m---> 54\u001b[0m         \u001b[38;5;28;01mif\u001b[39;00m \u001b[38;5;129;01mnot\u001b[39;00m valid\u001b[38;5;241m.\u001b[39mall():\n\u001b[1;32m     55\u001b[0m             \u001b[38;5;28;01mraise\u001b[39;00m \u001b[38;5;167;01mValueError\u001b[39;00m(\n\u001b[1;32m     56\u001b[0m                 \u001b[38;5;124mf\u001b[39m\u001b[38;5;124m\"\u001b[39m\u001b[38;5;124mExpected parameter \u001b[39m\u001b[38;5;132;01m{\u001b[39;00mparam\u001b[38;5;132;01m}\u001b[39;00m\u001b[38;5;124m \u001b[39m\u001b[38;5;124m\"\u001b[39m\n\u001b[1;32m     57\u001b[0m                 \u001b[38;5;124mf\u001b[39m\u001b[38;5;124m\"\u001b[39m\u001b[38;5;124m(\u001b[39m\u001b[38;5;132;01m{\u001b[39;00m\u001b[38;5;28mtype\u001b[39m(value)\u001b[38;5;241m.\u001b[39m\u001b[38;5;18m__name__\u001b[39m\u001b[38;5;132;01m}\u001b[39;00m\u001b[38;5;124m of shape \u001b[39m\u001b[38;5;132;01m{\u001b[39;00m\u001b[38;5;28mtuple\u001b[39m(value\u001b[38;5;241m.\u001b[39mshape)\u001b[38;5;132;01m}\u001b[39;00m\u001b[38;5;124m) \u001b[39m\u001b[38;5;124m\"\u001b[39m\n\u001b[0;32m   (...)\u001b[0m\n\u001b[1;32m     60\u001b[0m                 \u001b[38;5;124mf\u001b[39m\u001b[38;5;124m\"\u001b[39m\u001b[38;5;124mbut found invalid values:\u001b[39m\u001b[38;5;130;01m\\n\u001b[39;00m\u001b[38;5;132;01m{\u001b[39;00mvalue\u001b[38;5;132;01m}\u001b[39;00m\u001b[38;5;124m\"\u001b[39m\n\u001b[1;32m     61\u001b[0m             )\n\u001b[1;32m     62\u001b[0m \u001b[38;5;28msuper\u001b[39m(Distribution, \u001b[38;5;28mself\u001b[39m)\u001b[38;5;241m.\u001b[39m\u001b[38;5;21m__init__\u001b[39m()\n",
      "\u001b[0;31mKeyboardInterrupt\u001b[0m: "
     ]
    }
   ],
   "source": [
    "wm_train(conf)"
   ]
  },
  {
   "cell_type": "code",
   "execution_count": null,
   "id": "e70f8127",
   "metadata": {},
   "outputs": [],
   "source": []
  }
 ],
 "metadata": {
  "kernelspec": {
   "display_name": "Python 3 (ipykernel)",
   "language": "python",
   "name": "python3"
  },
  "language_info": {
   "codemirror_mode": {
    "name": "ipython",
    "version": 3
   },
   "file_extension": ".py",
   "mimetype": "text/x-python",
   "name": "python",
   "nbconvert_exporter": "python",
   "pygments_lexer": "ipython3",
   "version": "3.10.6"
  }
 },
 "nbformat": 4,
 "nbformat_minor": 5
}
